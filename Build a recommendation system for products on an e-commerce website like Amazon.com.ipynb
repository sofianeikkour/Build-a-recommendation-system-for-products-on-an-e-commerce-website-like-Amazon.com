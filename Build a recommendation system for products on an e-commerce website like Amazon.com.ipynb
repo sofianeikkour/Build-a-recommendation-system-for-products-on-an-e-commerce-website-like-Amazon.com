{
 "cells": [
  {
   "cell_type": "markdown",
   "metadata": {
    "id": "qJ9k5HUWCsVX"
   },
   "source": [
    "# **Project - Build a recommendation system for products on an e-commerce website like Amazon.com**"
   ]
  },
  {
   "cell_type": "markdown",
   "metadata": {
    "id": "zxjipWf_DIj-"
   },
   "source": [
    "**Context:**  \n",
    "Online e-commerce websites like Amazon and Flipkart use different recommendation models to provide different suggestions to different users. For example, Amazon uses item-to-item collaborative filtering, which scales to massive data sets and produces high-quality recommendations in real time.   \n",
    "\n",
    "**Objective:**  \n",
    "In this project, our objective is to build a recommendation system to recommend products to customers based on their previous ratings for other products.  \n",
    "\n",
    "**Data description:**  \n",
    "Source: Amazon Reviews Data ([Data Source](http://jmcauley.ucsd.edu/data/amazon/)). the repository has several datasets. For our study, I am using the Electronics dataset that I downloaded.  \n",
    "Below is quick description of each attribute.\n",
    "- Userid: Every user identified with a unique id  \n",
    "- Productid: Every product identified with a unique id\n",
    "- Rating: Rating of corresponding product by the corresponding user.\n",
    "- Timestamp: Time of the rating.\n",
    "\n",
    "**Note:** This code was written on Jupyter Notebook.  \n",
    "**Language:** Python.  \n",
    "**Packages:** numpy, pandas, scikit-learn, scipy, matplotlib, seaborn.  "
   ]
  },
  {
   "cell_type": "markdown",
   "metadata": {
    "id": "WNTiraEFPVpd"
   },
   "source": [
    "**Import libraries**"
   ]
  },
  {
   "cell_type": "code",
   "execution_count": 1,
   "metadata": {
    "executionInfo": {
     "elapsed": 258,
     "status": "ok",
     "timestamp": 1683317923395,
     "user": {
      "displayName": "Sofiane Ikkour",
      "userId": "12163968403439377340"
     },
     "user_tz": -120
    },
    "id": "lPk2jP9QCgig"
   },
   "outputs": [],
   "source": [
    "import numpy as np\n",
    "import pandas as pd\n",
    "from sklearn.model_selection import train_test_split\n",
    "from scipy.sparse.linalg import svds\n",
    "import matplotlib.pyplot as plt\n",
    "import seaborn as sns\n",
    "sns.set()"
   ]
  },
  {
   "cell_type": "markdown",
   "metadata": {
    "id": "X_E6sZRDz0su"
   },
   "source": [
    "**Read and explore the dataset**"
   ]
  },
  {
   "cell_type": "code",
   "execution_count": 5,
   "metadata": {
    "colab": {
     "base_uri": "https://localhost:8080/",
     "height": 206
    },
    "executionInfo": {
     "elapsed": 11872,
     "status": "ok",
     "timestamp": 1683315980032,
     "user": {
      "displayName": "Sofiane Ikkour",
      "userId": "12163968403439377340"
     },
     "user_tz": -120
    },
    "id": "DXCyBV4W0fHt",
    "outputId": "5ede4808-9edb-4dea-aa8a-336592139911"
   },
   "outputs": [
    {
     "data": {
      "text/html": [
       "<div>\n",
       "<style scoped>\n",
       "    .dataframe tbody tr th:only-of-type {\n",
       "        vertical-align: middle;\n",
       "    }\n",
       "\n",
       "    .dataframe tbody tr th {\n",
       "        vertical-align: top;\n",
       "    }\n",
       "\n",
       "    .dataframe thead th {\n",
       "        text-align: right;\n",
       "    }\n",
       "</style>\n",
       "<table border=\"1\" class=\"dataframe\">\n",
       "  <thead>\n",
       "    <tr style=\"text-align: right;\">\n",
       "      <th></th>\n",
       "      <th>0</th>\n",
       "      <th>1</th>\n",
       "      <th>2</th>\n",
       "      <th>3</th>\n",
       "    </tr>\n",
       "  </thead>\n",
       "  <tbody>\n",
       "    <tr>\n",
       "      <th>0</th>\n",
       "      <td>AKM1MP6P0OYPR</td>\n",
       "      <td>0132793040</td>\n",
       "      <td>5.0</td>\n",
       "      <td>1365811200</td>\n",
       "    </tr>\n",
       "    <tr>\n",
       "      <th>1</th>\n",
       "      <td>A2CX7LUOHB2NDG</td>\n",
       "      <td>0321732944</td>\n",
       "      <td>5.0</td>\n",
       "      <td>1341100800</td>\n",
       "    </tr>\n",
       "    <tr>\n",
       "      <th>2</th>\n",
       "      <td>A2NWSAGRHCP8N5</td>\n",
       "      <td>0439886341</td>\n",
       "      <td>1.0</td>\n",
       "      <td>1367193600</td>\n",
       "    </tr>\n",
       "    <tr>\n",
       "      <th>3</th>\n",
       "      <td>A2WNBOD3WNDNKT</td>\n",
       "      <td>0439886341</td>\n",
       "      <td>3.0</td>\n",
       "      <td>1374451200</td>\n",
       "    </tr>\n",
       "    <tr>\n",
       "      <th>4</th>\n",
       "      <td>A1GI0U4ZRJA8WN</td>\n",
       "      <td>0439886341</td>\n",
       "      <td>1.0</td>\n",
       "      <td>1334707200</td>\n",
       "    </tr>\n",
       "  </tbody>\n",
       "</table>\n",
       "</div>"
      ],
      "text/plain": [
       "                0           1    2           3\n",
       "0   AKM1MP6P0OYPR  0132793040  5.0  1365811200\n",
       "1  A2CX7LUOHB2NDG  0321732944  5.0  1341100800\n",
       "2  A2NWSAGRHCP8N5  0439886341  1.0  1367193600\n",
       "3  A2WNBOD3WNDNKT  0439886341  3.0  1374451200\n",
       "4  A1GI0U4ZRJA8WN  0439886341  1.0  1334707200"
      ]
     },
     "execution_count": 5,
     "metadata": {},
     "output_type": "execute_result"
    }
   ],
   "source": [
    "# read the dataset\n",
    "# data = pd.read_csv(io.BytesIO(uploaded['ratings_Electronics (1).csv']), header = None)\n",
    "data = pd.read_csv('C:/Users/sofia/Documents/IT/Datasets/ratings_Electronics (1).csv', header = None)\n",
    "data.head()"
   ]
  },
  {
   "cell_type": "code",
   "execution_count": 6,
   "metadata": {
    "colab": {
     "base_uri": "https://localhost:8080/",
     "height": 206
    },
    "executionInfo": {
     "elapsed": 364,
     "status": "ok",
     "timestamp": 1683315982872,
     "user": {
      "displayName": "Sofiane Ikkour",
      "userId": "12163968403439377340"
     },
     "user_tz": -120
    },
    "id": "6RMIXJgUGjfv",
    "outputId": "66f59c5a-2bd0-4476-fa2d-fb9c65528162"
   },
   "outputs": [
    {
     "data": {
      "text/html": [
       "<div>\n",
       "<style scoped>\n",
       "    .dataframe tbody tr th:only-of-type {\n",
       "        vertical-align: middle;\n",
       "    }\n",
       "\n",
       "    .dataframe tbody tr th {\n",
       "        vertical-align: top;\n",
       "    }\n",
       "\n",
       "    .dataframe thead th {\n",
       "        text-align: right;\n",
       "    }\n",
       "</style>\n",
       "<table border=\"1\" class=\"dataframe\">\n",
       "  <thead>\n",
       "    <tr style=\"text-align: right;\">\n",
       "      <th></th>\n",
       "      <th>UserID</th>\n",
       "      <th>ProductID</th>\n",
       "      <th>Rating</th>\n",
       "      <th>Timestamp</th>\n",
       "    </tr>\n",
       "  </thead>\n",
       "  <tbody>\n",
       "    <tr>\n",
       "      <th>0</th>\n",
       "      <td>AKM1MP6P0OYPR</td>\n",
       "      <td>0132793040</td>\n",
       "      <td>5.0</td>\n",
       "      <td>1365811200</td>\n",
       "    </tr>\n",
       "    <tr>\n",
       "      <th>1</th>\n",
       "      <td>A2CX7LUOHB2NDG</td>\n",
       "      <td>0321732944</td>\n",
       "      <td>5.0</td>\n",
       "      <td>1341100800</td>\n",
       "    </tr>\n",
       "    <tr>\n",
       "      <th>2</th>\n",
       "      <td>A2NWSAGRHCP8N5</td>\n",
       "      <td>0439886341</td>\n",
       "      <td>1.0</td>\n",
       "      <td>1367193600</td>\n",
       "    </tr>\n",
       "    <tr>\n",
       "      <th>3</th>\n",
       "      <td>A2WNBOD3WNDNKT</td>\n",
       "      <td>0439886341</td>\n",
       "      <td>3.0</td>\n",
       "      <td>1374451200</td>\n",
       "    </tr>\n",
       "    <tr>\n",
       "      <th>4</th>\n",
       "      <td>A1GI0U4ZRJA8WN</td>\n",
       "      <td>0439886341</td>\n",
       "      <td>1.0</td>\n",
       "      <td>1334707200</td>\n",
       "    </tr>\n",
       "  </tbody>\n",
       "</table>\n",
       "</div>"
      ],
      "text/plain": [
       "           UserID   ProductID  Rating   Timestamp\n",
       "0   AKM1MP6P0OYPR  0132793040     5.0  1365811200\n",
       "1  A2CX7LUOHB2NDG  0321732944     5.0  1341100800\n",
       "2  A2NWSAGRHCP8N5  0439886341     1.0  1367193600\n",
       "3  A2WNBOD3WNDNKT  0439886341     3.0  1374451200\n",
       "4  A1GI0U4ZRJA8WN  0439886341     1.0  1334707200"
      ]
     },
     "execution_count": 6,
     "metadata": {},
     "output_type": "execute_result"
    }
   ],
   "source": [
    "# we can see that the dataframe has no column names\n",
    "# as previously stated in the data description, \n",
    "# the first column corresponds to the user id, the second column is the product id, the third column is the rating and the last column is the timestamp\n",
    "# let's rename these columns accordingly\n",
    "data.rename(columns = {0:'UserID', 1:'ProductID', 2:'Rating', 3:'Timestamp'}, inplace = True)\n",
    "data.head()"
   ]
  },
  {
   "cell_type": "code",
   "execution_count": 7,
   "metadata": {
    "colab": {
     "base_uri": "https://localhost:8080/"
    },
    "executionInfo": {
     "elapsed": 285,
     "status": "ok",
     "timestamp": 1683315985829,
     "user": {
      "displayName": "Sofiane Ikkour",
      "userId": "12163968403439377340"
     },
     "user_tz": -120
    },
    "id": "mujALogqGcpG",
    "outputId": "0c9122c1-88d8-49c8-8eda-d44806ac10c0"
   },
   "outputs": [
    {
     "name": "stdout",
     "output_type": "stream",
     "text": [
      "The shape of the dataset is: (7824482, 4)\n"
     ]
    }
   ],
   "source": [
    "# print the shape of the dataframe\n",
    "print('The shape of the dataset is:', data.shape)"
   ]
  },
  {
   "cell_type": "code",
   "execution_count": 8,
   "metadata": {
    "colab": {
     "base_uri": "https://localhost:8080/"
    },
    "executionInfo": {
     "elapsed": 1294,
     "status": "ok",
     "timestamp": 1683315990786,
     "user": {
      "displayName": "Sofiane Ikkour",
      "userId": "12163968403439377340"
     },
     "user_tz": -120
    },
    "id": "0QHNUrPlFSdl",
    "outputId": "1ee0c74e-b4d9-427f-de67-ebfc8dc33d36"
   },
   "outputs": [
    {
     "data": {
      "text/plain": [
       "UserID       0\n",
       "ProductID    0\n",
       "Rating       0\n",
       "Timestamp    0\n",
       "dtype: int64"
      ]
     },
     "execution_count": 8,
     "metadata": {},
     "output_type": "execute_result"
    }
   ],
   "source": [
    "# check for null values\n",
    "data.isnull().sum()"
   ]
  },
  {
   "cell_type": "code",
   "execution_count": 9,
   "metadata": {
    "colab": {
     "base_uri": "https://localhost:8080/"
    },
    "executionInfo": {
     "elapsed": 477,
     "status": "ok",
     "timestamp": 1683315993942,
     "user": {
      "displayName": "Sofiane Ikkour",
      "userId": "12163968403439377340"
     },
     "user_tz": -120
    },
    "id": "GC0F5ChDFe3a",
    "outputId": "2b2d95d0-a34d-49ec-bf4c-a5ade195128e"
   },
   "outputs": [
    {
     "data": {
      "text/plain": [
       "UserID        object\n",
       "ProductID     object\n",
       "Rating       float64\n",
       "Timestamp      int64\n",
       "dtype: object"
      ]
     },
     "execution_count": 9,
     "metadata": {},
     "output_type": "execute_result"
    }
   ],
   "source": [
    "# the dataset has no missing values\n",
    "# let's check the datatypes\n",
    "data.dtypes"
   ]
  },
  {
   "cell_type": "code",
   "execution_count": 10,
   "metadata": {
    "colab": {
     "base_uri": "https://localhost:8080/",
     "height": 300
    },
    "executionInfo": {
     "elapsed": 1732,
     "status": "ok",
     "timestamp": 1683315998290,
     "user": {
      "displayName": "Sofiane Ikkour",
      "userId": "12163968403439377340"
     },
     "user_tz": -120
    },
    "id": "QURg41UzFveo",
    "outputId": "d1c90fba-c8ff-40e5-c1dc-a798eafc5fc1"
   },
   "outputs": [
    {
     "data": {
      "text/html": [
       "<div>\n",
       "<style scoped>\n",
       "    .dataframe tbody tr th:only-of-type {\n",
       "        vertical-align: middle;\n",
       "    }\n",
       "\n",
       "    .dataframe tbody tr th {\n",
       "        vertical-align: top;\n",
       "    }\n",
       "\n",
       "    .dataframe thead th {\n",
       "        text-align: right;\n",
       "    }\n",
       "</style>\n",
       "<table border=\"1\" class=\"dataframe\">\n",
       "  <thead>\n",
       "    <tr style=\"text-align: right;\">\n",
       "      <th></th>\n",
       "      <th>Rating</th>\n",
       "      <th>Timestamp</th>\n",
       "    </tr>\n",
       "  </thead>\n",
       "  <tbody>\n",
       "    <tr>\n",
       "      <th>count</th>\n",
       "      <td>7824482.00000</td>\n",
       "      <td>7824482.00000</td>\n",
       "    </tr>\n",
       "    <tr>\n",
       "      <th>mean</th>\n",
       "      <td>4.01234</td>\n",
       "      <td>1338178197.27241</td>\n",
       "    </tr>\n",
       "    <tr>\n",
       "      <th>std</th>\n",
       "      <td>1.38091</td>\n",
       "      <td>69004257.78656</td>\n",
       "    </tr>\n",
       "    <tr>\n",
       "      <th>min</th>\n",
       "      <td>1.00000</td>\n",
       "      <td>912729600.00000</td>\n",
       "    </tr>\n",
       "    <tr>\n",
       "      <th>25%</th>\n",
       "      <td>3.00000</td>\n",
       "      <td>1315353600.00000</td>\n",
       "    </tr>\n",
       "    <tr>\n",
       "      <th>50%</th>\n",
       "      <td>5.00000</td>\n",
       "      <td>1361059200.00000</td>\n",
       "    </tr>\n",
       "    <tr>\n",
       "      <th>75%</th>\n",
       "      <td>5.00000</td>\n",
       "      <td>1386115200.00000</td>\n",
       "    </tr>\n",
       "    <tr>\n",
       "      <th>max</th>\n",
       "      <td>5.00000</td>\n",
       "      <td>1406073600.00000</td>\n",
       "    </tr>\n",
       "  </tbody>\n",
       "</table>\n",
       "</div>"
      ],
      "text/plain": [
       "              Rating         Timestamp\n",
       "count  7824482.00000     7824482.00000\n",
       "mean         4.01234  1338178197.27241\n",
       "std          1.38091    69004257.78656\n",
       "min          1.00000   912729600.00000\n",
       "25%          3.00000  1315353600.00000\n",
       "50%          5.00000  1361059200.00000\n",
       "75%          5.00000  1386115200.00000\n",
       "max          5.00000  1406073600.00000"
      ]
     },
     "execution_count": 10,
     "metadata": {},
     "output_type": "execute_result"
    }
   ],
   "source": [
    "# visualize some descriptive statistics and supress scientific notation\n",
    "data.describe().apply(lambda x: x.apply('{0:.5f}'.format))"
   ]
  },
  {
   "cell_type": "code",
   "execution_count": 11,
   "metadata": {
    "colab": {
     "base_uri": "https://localhost:8080/",
     "height": 461
    },
    "executionInfo": {
     "elapsed": 4095,
     "status": "ok",
     "timestamp": 1683316005847,
     "user": {
      "displayName": "Sofiane Ikkour",
      "userId": "12163968403439377340"
     },
     "user_tz": -120
    },
    "id": "1k1mUCLiIlgq",
    "outputId": "709d6f26-c0a3-42a5-d5c1-97aac1c868e5"
   },
   "outputs": [
    {
     "data": {
      "image/png": "[encoded data removed]",
      "text/plain": [
       "<Figure size 1000x500 with 1 Axes>"
      ]
     },
     "metadata": {},
     "output_type": "display_data"
    }
   ],
   "source": [
    "# the descriptive statistics show that the values of the rating column range from 1 to 5\n",
    "# the mean is around 4 which suggests that most the of the ratings are 4s and 5s \n",
    "# in order to have a clearer insight about this column we need to plot its distribution\n",
    "with sns.axes_style(style = 'darkgrid'):\n",
    "  g = sns.catplot(x = 'Rating', data = data, aspect = 2.0, kind = 'count')\n",
    "  g.set(xlabel = None, ylabel = 'Total number of ratings')\n",
    "  plt.ticklabel_format(style = 'plain', axis = 'y') # suppress scientific notation in the y-axis "
   ]
  },
  {
   "cell_type": "markdown",
   "metadata": {
    "id": "kkpgt8UL0mL1"
   },
   "source": [
    "*Observation:*  \n",
    "The plot above shows the distribution of the rating attribute. We can see that the majority of the products have a 5 star rating followed by 4. "
   ]
  },
  {
   "cell_type": "markdown",
   "metadata": {
    "id": "ZkuMYPJq1zt6"
   },
   "source": [
    "**Preprocess the data**  \n",
    "First, we can get rid of the timestamp column as we don't need to use it. Then, what we can do is to take a subset of the dataset in order to make it less sparse/denser. For example, we can only keep the users who have given 50 or more number of ratings. After that, we split the dataset into train and test sets. "
   ]
  },
  {
   "cell_type": "code",
   "execution_count": 12,
   "metadata": {
    "colab": {
     "base_uri": "https://localhost:8080/",
     "height": 206
    },
    "executionInfo": {
     "elapsed": 281,
     "status": "ok",
     "timestamp": 1683316012732,
     "user": {
      "displayName": "Sofiane Ikkour",
      "userId": "12163968403439377340"
     },
     "user_tz": -120
    },
    "id": "rwyhXTKlUl7F",
    "outputId": "820c2139-c8a2-4494-b4e0-37fb7acd27ba"
   },
   "outputs": [
    {
     "data": {
      "text/html": [
       "<div>\n",
       "<style scoped>\n",
       "    .dataframe tbody tr th:only-of-type {\n",
       "        vertical-align: middle;\n",
       "    }\n",
       "\n",
       "    .dataframe tbody tr th {\n",
       "        vertical-align: top;\n",
       "    }\n",
       "\n",
       "    .dataframe thead th {\n",
       "        text-align: right;\n",
       "    }\n",
       "</style>\n",
       "<table border=\"1\" class=\"dataframe\">\n",
       "  <thead>\n",
       "    <tr style=\"text-align: right;\">\n",
       "      <th></th>\n",
       "      <th>UserID</th>\n",
       "      <th>ProductID</th>\n",
       "      <th>Rating</th>\n",
       "    </tr>\n",
       "  </thead>\n",
       "  <tbody>\n",
       "    <tr>\n",
       "      <th>0</th>\n",
       "      <td>AKM1MP6P0OYPR</td>\n",
       "      <td>0132793040</td>\n",
       "      <td>5.0</td>\n",
       "    </tr>\n",
       "    <tr>\n",
       "      <th>1</th>\n",
       "      <td>A2CX7LUOHB2NDG</td>\n",
       "      <td>0321732944</td>\n",
       "      <td>5.0</td>\n",
       "    </tr>\n",
       "    <tr>\n",
       "      <th>2</th>\n",
       "      <td>A2NWSAGRHCP8N5</td>\n",
       "      <td>0439886341</td>\n",
       "      <td>1.0</td>\n",
       "    </tr>\n",
       "    <tr>\n",
       "      <th>3</th>\n",
       "      <td>A2WNBOD3WNDNKT</td>\n",
       "      <td>0439886341</td>\n",
       "      <td>3.0</td>\n",
       "    </tr>\n",
       "    <tr>\n",
       "      <th>4</th>\n",
       "      <td>A1GI0U4ZRJA8WN</td>\n",
       "      <td>0439886341</td>\n",
       "      <td>1.0</td>\n",
       "    </tr>\n",
       "  </tbody>\n",
       "</table>\n",
       "</div>"
      ],
      "text/plain": [
       "           UserID   ProductID  Rating\n",
       "0   AKM1MP6P0OYPR  0132793040     5.0\n",
       "1  A2CX7LUOHB2NDG  0321732944     5.0\n",
       "2  A2NWSAGRHCP8N5  0439886341     1.0\n",
       "3  A2WNBOD3WNDNKT  0439886341     3.0\n",
       "4  A1GI0U4ZRJA8WN  0439886341     1.0"
      ]
     },
     "execution_count": 12,
     "metadata": {},
     "output_type": "execute_result"
    }
   ],
   "source": [
    "# remove the \"Timestamp\" column\n",
    "data.drop('Timestamp', axis = 1, inplace = True)\n",
    "data.head()"
   ]
  },
  {
   "cell_type": "code",
   "execution_count": 13,
   "metadata": {
    "colab": {
     "base_uri": "https://localhost:8080/",
     "height": 206
    },
    "executionInfo": {
     "elapsed": 37300,
     "status": "ok",
     "timestamp": 1683316052622,
     "user": {
      "displayName": "Sofiane Ikkour",
      "userId": "12163968403439377340"
     },
     "user_tz": -120
    },
    "id": "deQ3ZD8LrPv4",
    "outputId": "6a490d99-3b4b-4bfa-80c5-92ba2c9971fa"
   },
   "outputs": [
    {
     "data": {
      "text/html": [
       "<div>\n",
       "<style scoped>\n",
       "    .dataframe tbody tr th:only-of-type {\n",
       "        vertical-align: middle;\n",
       "    }\n",
       "\n",
       "    .dataframe tbody tr th {\n",
       "        vertical-align: top;\n",
       "    }\n",
       "\n",
       "    .dataframe thead th {\n",
       "        text-align: right;\n",
       "    }\n",
       "</style>\n",
       "<table border=\"1\" class=\"dataframe\">\n",
       "  <thead>\n",
       "    <tr style=\"text-align: right;\">\n",
       "      <th></th>\n",
       "      <th>UserID</th>\n",
       "      <th>ProductID</th>\n",
       "      <th>Rating</th>\n",
       "    </tr>\n",
       "  </thead>\n",
       "  <tbody>\n",
       "    <tr>\n",
       "      <th>0</th>\n",
       "      <td>A3BY5KCNQZXV5U</td>\n",
       "      <td>0594451647</td>\n",
       "      <td>5.0</td>\n",
       "    </tr>\n",
       "    <tr>\n",
       "      <th>1</th>\n",
       "      <td>AT09WGFUM934H</td>\n",
       "      <td>0594481813</td>\n",
       "      <td>3.0</td>\n",
       "    </tr>\n",
       "    <tr>\n",
       "      <th>2</th>\n",
       "      <td>A32HSNCNPRUMTR</td>\n",
       "      <td>0970407998</td>\n",
       "      <td>1.0</td>\n",
       "    </tr>\n",
       "    <tr>\n",
       "      <th>3</th>\n",
       "      <td>A17HMM1M7T9PJ1</td>\n",
       "      <td>0970407998</td>\n",
       "      <td>4.0</td>\n",
       "    </tr>\n",
       "    <tr>\n",
       "      <th>4</th>\n",
       "      <td>A3CLWR1UUZT6TG</td>\n",
       "      <td>0972683275</td>\n",
       "      <td>5.0</td>\n",
       "    </tr>\n",
       "  </tbody>\n",
       "</table>\n",
       "</div>"
      ],
      "text/plain": [
       "           UserID   ProductID  Rating\n",
       "0  A3BY5KCNQZXV5U  0594451647     5.0\n",
       "1   AT09WGFUM934H  0594481813     3.0\n",
       "2  A32HSNCNPRUMTR  0970407998     1.0\n",
       "3  A17HMM1M7T9PJ1  0970407998     4.0\n",
       "4  A3CLWR1UUZT6TG  0972683275     5.0"
      ]
     },
     "execution_count": 13,
     "metadata": {},
     "output_type": "execute_result"
    }
   ],
   "source": [
    "# take a subset of the data to make it less sparse/denser\n",
    "# this reduces the dimensionality of the dataset and avoids running into memory error\n",
    "\n",
    "# first we need to group the dataset by \"UserID\" and count the number of occurences of each user\n",
    "data_grouped = data.groupby('UserID').size()\n",
    "\n",
    "# then we filter the grouped data to discard all counts lower than 50\n",
    "data_filtered = data_grouped[data.groupby('UserID').size() >= 50]\n",
    "\n",
    "# retrieve the indices of the filtered data\n",
    "indices = data_filtered.index\n",
    "\n",
    "# finally, use these indices to filter the original data to keep only the users with 50 or more number of ratings\n",
    "data_final = data[data.UserID.isin(indices)]\n",
    "data_final.reset_index(drop = True, inplace = True)\n",
    "data_final.head()"
   ]
  },
  {
   "cell_type": "code",
   "execution_count": 14,
   "metadata": {
    "colab": {
     "base_uri": "https://localhost:8080/"
    },
    "executionInfo": {
     "elapsed": 238,
     "status": "ok",
     "timestamp": 1683316059816,
     "user": {
      "displayName": "Sofiane Ikkour",
      "userId": "12163968403439377340"
     },
     "user_tz": -120
    },
    "id": "zoQmNS37tBlw",
    "outputId": "d479b604-d616-40b4-ff6c-3ee3e0a51c2e"
   },
   "outputs": [
    {
     "name": "stdout",
     "output_type": "stream",
     "text": [
      "data.shape: (7824482, 3) \n",
      "data_final.shape: (125871, 3)\n"
     ]
    }
   ],
   "source": [
    "# print shapes of both the original and final data\n",
    "print('data.shape:', data.shape, '\\ndata_final.shape:', data_final.shape)"
   ]
  },
  {
   "cell_type": "markdown",
   "metadata": {
    "id": "_VKEbk8woLPS"
   },
   "source": [
    "*Observation:*  \n",
    "As we can see the number of observations was reduced from 7824482 to 125871 observations as we took a subset of the original dataset to keep only the users who have given 50 number of ratings or more. Hence, we now have a final dataset that is less sparse/denser.\n"
   ]
  },
  {
   "cell_type": "markdown",
   "metadata": {
    "id": "T2VTI_SnopkE"
   },
   "source": [
    "**Split the final dataset into train and test sets**"
   ]
  },
  {
   "cell_type": "code",
   "execution_count": 15,
   "metadata": {
    "colab": {
     "base_uri": "https://localhost:8080/"
    },
    "executionInfo": {
     "elapsed": 224,
     "status": "ok",
     "timestamp": 1683316066526,
     "user": {
      "displayName": "Sofiane Ikkour",
      "userId": "12163968403439377340"
     },
     "user_tz": -120
    },
    "id": "6cR5tllMmE-6",
    "outputId": "6072e4d9-c7d6-475d-fd5d-d4e048e8a349"
   },
   "outputs": [
    {
     "name": "stdout",
     "output_type": "stream",
     "text": [
      "Shape of train data: (88109, 3)\n",
      "Shape of test data: (37762, 3)\n"
     ]
    }
   ],
   "source": [
    "# split the dataset into train and test sets with a ratio of 70:30\n",
    "train_data, test_data = train_test_split(data_final, test_size = 0.3, random_state = 0)\n",
    "\n",
    "# print the shape of both train and test sets\n",
    "print('Shape of train data:', train_data.shape)\n",
    "print('Shape of test data:', test_data.shape)"
   ]
  },
  {
   "cell_type": "markdown",
   "metadata": {
    "id": "YSAxIVMBSP1J"
   },
   "source": [
    "**Build a popularity-based recommender system**"
   ]
  },
  {
   "cell_type": "code",
   "execution_count": 16,
   "metadata": {
    "colab": {
     "base_uri": "https://localhost:8080/",
     "height": 206
    },
    "executionInfo": {
     "elapsed": 250,
     "status": "ok",
     "timestamp": 1683316070631,
     "user": {
      "displayName": "Sofiane Ikkour",
      "userId": "12163968403439377340"
     },
     "user_tz": -120
    },
    "id": "BZW9-k9WSO_C",
    "outputId": "17243c91-6142-428c-99d7-b51a6576811b"
   },
   "outputs": [
    {
     "data": {
      "text/html": [
       "<div>\n",
       "<style scoped>\n",
       "    .dataframe tbody tr th:only-of-type {\n",
       "        vertical-align: middle;\n",
       "    }\n",
       "\n",
       "    .dataframe tbody tr th {\n",
       "        vertical-align: top;\n",
       "    }\n",
       "\n",
       "    .dataframe thead th {\n",
       "        text-align: right;\n",
       "    }\n",
       "</style>\n",
       "<table border=\"1\" class=\"dataframe\">\n",
       "  <thead>\n",
       "    <tr style=\"text-align: right;\">\n",
       "      <th></th>\n",
       "      <th>ProductID</th>\n",
       "      <th>Score</th>\n",
       "      <th>rank</th>\n",
       "    </tr>\n",
       "  </thead>\n",
       "  <tbody>\n",
       "    <tr>\n",
       "      <th>39003</th>\n",
       "      <td>B0088CJT4U</td>\n",
       "      <td>206</td>\n",
       "      <td>1.0</td>\n",
       "    </tr>\n",
       "    <tr>\n",
       "      <th>24827</th>\n",
       "      <td>B003ES5ZUU</td>\n",
       "      <td>184</td>\n",
       "      <td>2.0</td>\n",
       "    </tr>\n",
       "    <tr>\n",
       "      <th>11078</th>\n",
       "      <td>B000N99BBC</td>\n",
       "      <td>167</td>\n",
       "      <td>3.0</td>\n",
       "    </tr>\n",
       "    <tr>\n",
       "      <th>38250</th>\n",
       "      <td>B007WTAJTO</td>\n",
       "      <td>164</td>\n",
       "      <td>4.0</td>\n",
       "    </tr>\n",
       "    <tr>\n",
       "      <th>38615</th>\n",
       "      <td>B00829TIEK</td>\n",
       "      <td>149</td>\n",
       "      <td>5.0</td>\n",
       "    </tr>\n",
       "  </tbody>\n",
       "</table>\n",
       "</div>"
      ],
      "text/plain": [
       "        ProductID  Score  rank\n",
       "39003  B0088CJT4U    206   1.0\n",
       "24827  B003ES5ZUU    184   2.0\n",
       "11078  B000N99BBC    167   3.0\n",
       "38250  B007WTAJTO    164   4.0\n",
       "38615  B00829TIEK    149   5.0"
      ]
     },
     "execution_count": 16,
     "metadata": {},
     "output_type": "execute_result"
    }
   ],
   "source": [
    "# count the number of user ids per product\n",
    "train_data_score = data_final.groupby('ProductID').agg({'UserID':'count'})\n",
    "\n",
    "# rename the \"UserID\" column to \"Score\"\n",
    "train_data_score.rename(columns = {'UserID':'Score'}, inplace = True)\n",
    "\n",
    "# reset the indices\n",
    "train_data_score.reset_index(inplace = True)\n",
    "\n",
    "# sort the values of the \"Score\" column in descending order\n",
    "train_data_score.sort_values(['Score', 'ProductID'], ascending = [0,1], inplace = True)\n",
    "\n",
    "# add a rank column \n",
    "train_data_score['rank'] = train_data_score['Score'].rank(method = 'first', ascending = False)\n",
    "train_data_score.head()"
   ]
  },
  {
   "cell_type": "code",
   "execution_count": 17,
   "metadata": {
    "executionInfo": {
     "elapsed": 238,
     "status": "ok",
     "timestamp": 1683316073622,
     "user": {
      "displayName": "Sofiane Ikkour",
      "userId": "12163968403439377340"
     },
     "user_tz": -120
    },
    "id": "LiZtiue3YTpO"
   },
   "outputs": [],
   "source": [
    "# create a function that recommends the top n products for a given user\n",
    "def pop_reco_sys(userid, num_recommendations):\n",
    "  user_recommendations = train_data_score\n",
    "  # add a user id column to the dataframe\n",
    "  user_recommendations['UserID'] = userid\n",
    "  # move the \"UserID\" column to the first position\n",
    "  col = user_recommendations.columns.tolist()\n",
    "  col = col[-1:] + col[:-1]\n",
    "  user_recommendations = user_recommendations[col]\n",
    "  # get the top n products to recommend for the user\n",
    "  user_recommendations = user_recommendations.head(num_recommendations)\n",
    "  return user_recommendations"
   ]
  },
  {
   "cell_type": "code",
   "execution_count": 18,
   "metadata": {
    "colab": {
     "base_uri": "https://localhost:8080/"
    },
    "executionInfo": {
     "elapsed": 244,
     "status": "ok",
     "timestamp": 1683316075972,
     "user": {
      "displayName": "Sofiane Ikkour",
      "userId": "12163968403439377340"
     },
     "user_tz": -120
    },
    "id": "lbaEUG5yfmYZ",
    "outputId": "2264301f-98d3-43bc-fe23-fe5f42f903b7"
   },
   "outputs": [
    {
     "name": "stdout",
     "output_type": "stream",
     "text": [
      "\n",
      "The top 5 products to recommend for user (UserID:A1E1LEVQ9VQNK)\n",
      "\n",
      "              UserID   ProductID  Score  rank\n",
      "39003  A1E1LEVQ9VQNK  B0088CJT4U    206   1.0\n",
      "24827  A1E1LEVQ9VQNK  B003ES5ZUU    184   2.0\n",
      "11078  A1E1LEVQ9VQNK  B000N99BBC    167   3.0\n",
      "38250  A1E1LEVQ9VQNK  B007WTAJTO    164   4.0\n",
      "38615  A1E1LEVQ9VQNK  B00829TIEK    149   5.0\n",
      "\n",
      "The top 5 products to recommend for user (UserID:A3AYSYSLHU26U9)\n",
      "\n",
      "               UserID   ProductID  Score  rank\n",
      "39003  A3AYSYSLHU26U9  B0088CJT4U    206   1.0\n",
      "24827  A3AYSYSLHU26U9  B003ES5ZUU    184   2.0\n",
      "11078  A3AYSYSLHU26U9  B000N99BBC    167   3.0\n",
      "38250  A3AYSYSLHU26U9  B007WTAJTO    164   4.0\n",
      "38615  A3AYSYSLHU26U9  B00829TIEK    149   5.0\n",
      "\n",
      "The top 5 products to recommend for user (UserID:A3CLWR1UUZT6TG)\n",
      "\n",
      "               UserID   ProductID  Score  rank\n",
      "39003  A3CLWR1UUZT6TG  B0088CJT4U    206   1.0\n",
      "24827  A3CLWR1UUZT6TG  B003ES5ZUU    184   2.0\n",
      "11078  A3CLWR1UUZT6TG  B000N99BBC    167   3.0\n",
      "38250  A3CLWR1UUZT6TG  B007WTAJTO    164   4.0\n",
      "38615  A3CLWR1UUZT6TG  B00829TIEK    149   5.0\n"
     ]
    }
   ],
   "source": [
    "# test the function and recommend the top 5 products for 3 users\n",
    "userid = ['A1E1LEVQ9VQNK', 'A3AYSYSLHU26U9', 'A3CLWR1UUZT6TG']\n",
    "for i in userid:\n",
    "  print('\\nThe top 5 products to recommend for user (UserID:{})\\n'.format(i))\n",
    "  print(pop_reco_sys(i, 5))"
   ]
  },
  {
   "cell_type": "markdown",
   "metadata": {
    "id": "Of-esIu2oZ2A"
   },
   "source": [
    "*Comment:*  \n",
    "Since this is a recommender system based on popularity, the same products are recommended for all users. Hence, this is a non personalized recommender system."
   ]
  },
  {
   "cell_type": "markdown",
   "metadata": {
    "id": "DG6hyDUjRUve"
   },
   "source": [
    "**Build a collaborative filtering based recommender system**"
   ]
  },
  {
   "cell_type": "markdown",
   "metadata": {
    "id": "efEsNJmjeIja"
   },
   "source": [
    "We will create a pivot table in which each user id will correspond to a row and each product id will correspond to a column. The density of this matrix will be calculated. Finally, for the predictions the SVD method will be used.   "
   ]
  },
  {
   "cell_type": "code",
   "execution_count": 19,
   "metadata": {
    "colab": {
     "base_uri": "https://localhost:8080/",
     "height": 266
    },
    "executionInfo": {
     "elapsed": 756,
     "status": "ok",
     "timestamp": 1683316094203,
     "user": {
      "displayName": "Sofiane Ikkour",
      "userId": "12163968403439377340"
     },
     "user_tz": -120
    },
    "id": "SI9CBSacRUa1",
    "outputId": "afce7930-c03c-472f-a221-6c2475803905"
   },
   "outputs": [
    {
     "data": {
      "text/html": [
       "<div>\n",
       "<style scoped>\n",
       "    .dataframe tbody tr th:only-of-type {\n",
       "        vertical-align: middle;\n",
       "    }\n",
       "\n",
       "    .dataframe tbody tr th {\n",
       "        vertical-align: top;\n",
       "    }\n",
       "\n",
       "    .dataframe thead th {\n",
       "        text-align: right;\n",
       "    }\n",
       "</style>\n",
       "<table border=\"1\" class=\"dataframe\">\n",
       "  <thead>\n",
       "    <tr style=\"text-align: right;\">\n",
       "      <th>ProductID</th>\n",
       "      <th>0594451647</th>\n",
       "      <th>0594481813</th>\n",
       "      <th>0970407998</th>\n",
       "      <th>0972683275</th>\n",
       "      <th>1400501466</th>\n",
       "      <th>1400501520</th>\n",
       "      <th>1400501776</th>\n",
       "      <th>1400532620</th>\n",
       "      <th>1400532655</th>\n",
       "      <th>140053271X</th>\n",
       "      <th>...</th>\n",
       "      <th>B00L5YZCCG</th>\n",
       "      <th>B00L8I6SFY</th>\n",
       "      <th>B00L8QCVL6</th>\n",
       "      <th>B00LA6T0LS</th>\n",
       "      <th>B00LBZ1Z7K</th>\n",
       "      <th>B00LED02VY</th>\n",
       "      <th>B00LGN7Y3G</th>\n",
       "      <th>B00LGQ6HL8</th>\n",
       "      <th>B00LI4ZZO8</th>\n",
       "      <th>B00LKG1MC8</th>\n",
       "    </tr>\n",
       "    <tr>\n",
       "      <th>UserID</th>\n",
       "      <th></th>\n",
       "      <th></th>\n",
       "      <th></th>\n",
       "      <th></th>\n",
       "      <th></th>\n",
       "      <th></th>\n",
       "      <th></th>\n",
       "      <th></th>\n",
       "      <th></th>\n",
       "      <th></th>\n",
       "      <th></th>\n",
       "      <th></th>\n",
       "      <th></th>\n",
       "      <th></th>\n",
       "      <th></th>\n",
       "      <th></th>\n",
       "      <th></th>\n",
       "      <th></th>\n",
       "      <th></th>\n",
       "      <th></th>\n",
       "      <th></th>\n",
       "    </tr>\n",
       "  </thead>\n",
       "  <tbody>\n",
       "    <tr>\n",
       "      <th>A100UD67AHFODS</th>\n",
       "      <td>NaN</td>\n",
       "      <td>NaN</td>\n",
       "      <td>NaN</td>\n",
       "      <td>NaN</td>\n",
       "      <td>NaN</td>\n",
       "      <td>NaN</td>\n",
       "      <td>NaN</td>\n",
       "      <td>NaN</td>\n",
       "      <td>NaN</td>\n",
       "      <td>NaN</td>\n",
       "      <td>...</td>\n",
       "      <td>NaN</td>\n",
       "      <td>NaN</td>\n",
       "      <td>NaN</td>\n",
       "      <td>NaN</td>\n",
       "      <td>NaN</td>\n",
       "      <td>NaN</td>\n",
       "      <td>NaN</td>\n",
       "      <td>NaN</td>\n",
       "      <td>NaN</td>\n",
       "      <td>NaN</td>\n",
       "    </tr>\n",
       "    <tr>\n",
       "      <th>A100WO06OQR8BQ</th>\n",
       "      <td>NaN</td>\n",
       "      <td>NaN</td>\n",
       "      <td>NaN</td>\n",
       "      <td>NaN</td>\n",
       "      <td>NaN</td>\n",
       "      <td>NaN</td>\n",
       "      <td>NaN</td>\n",
       "      <td>NaN</td>\n",
       "      <td>NaN</td>\n",
       "      <td>NaN</td>\n",
       "      <td>...</td>\n",
       "      <td>NaN</td>\n",
       "      <td>NaN</td>\n",
       "      <td>NaN</td>\n",
       "      <td>NaN</td>\n",
       "      <td>NaN</td>\n",
       "      <td>NaN</td>\n",
       "      <td>NaN</td>\n",
       "      <td>NaN</td>\n",
       "      <td>NaN</td>\n",
       "      <td>NaN</td>\n",
       "    </tr>\n",
       "    <tr>\n",
       "      <th>A105S56ODHGJEK</th>\n",
       "      <td>NaN</td>\n",
       "      <td>NaN</td>\n",
       "      <td>NaN</td>\n",
       "      <td>NaN</td>\n",
       "      <td>NaN</td>\n",
       "      <td>NaN</td>\n",
       "      <td>NaN</td>\n",
       "      <td>NaN</td>\n",
       "      <td>NaN</td>\n",
       "      <td>NaN</td>\n",
       "      <td>...</td>\n",
       "      <td>NaN</td>\n",
       "      <td>NaN</td>\n",
       "      <td>NaN</td>\n",
       "      <td>NaN</td>\n",
       "      <td>NaN</td>\n",
       "      <td>NaN</td>\n",
       "      <td>NaN</td>\n",
       "      <td>NaN</td>\n",
       "      <td>NaN</td>\n",
       "      <td>NaN</td>\n",
       "    </tr>\n",
       "    <tr>\n",
       "      <th>A105TOJ6LTVMBG</th>\n",
       "      <td>NaN</td>\n",
       "      <td>NaN</td>\n",
       "      <td>NaN</td>\n",
       "      <td>NaN</td>\n",
       "      <td>NaN</td>\n",
       "      <td>NaN</td>\n",
       "      <td>NaN</td>\n",
       "      <td>NaN</td>\n",
       "      <td>NaN</td>\n",
       "      <td>NaN</td>\n",
       "      <td>...</td>\n",
       "      <td>NaN</td>\n",
       "      <td>NaN</td>\n",
       "      <td>NaN</td>\n",
       "      <td>NaN</td>\n",
       "      <td>NaN</td>\n",
       "      <td>NaN</td>\n",
       "      <td>NaN</td>\n",
       "      <td>NaN</td>\n",
       "      <td>NaN</td>\n",
       "      <td>NaN</td>\n",
       "    </tr>\n",
       "    <tr>\n",
       "      <th>A10AFVU66A79Y1</th>\n",
       "      <td>NaN</td>\n",
       "      <td>NaN</td>\n",
       "      <td>NaN</td>\n",
       "      <td>NaN</td>\n",
       "      <td>NaN</td>\n",
       "      <td>NaN</td>\n",
       "      <td>NaN</td>\n",
       "      <td>NaN</td>\n",
       "      <td>NaN</td>\n",
       "      <td>NaN</td>\n",
       "      <td>...</td>\n",
       "      <td>NaN</td>\n",
       "      <td>NaN</td>\n",
       "      <td>NaN</td>\n",
       "      <td>NaN</td>\n",
       "      <td>NaN</td>\n",
       "      <td>NaN</td>\n",
       "      <td>NaN</td>\n",
       "      <td>NaN</td>\n",
       "      <td>NaN</td>\n",
       "      <td>NaN</td>\n",
       "    </tr>\n",
       "  </tbody>\n",
       "</table>\n",
       "<p>5 rows × 48190 columns</p>\n",
       "</div>"
      ],
      "text/plain": [
       "ProductID       0594451647  0594481813  0970407998  0972683275  1400501466  \\\n",
       "UserID                                                                       \n",
       "A100UD67AHFODS         NaN         NaN         NaN         NaN         NaN   \n",
       "A100WO06OQR8BQ         NaN         NaN         NaN         NaN         NaN   \n",
       "A105S56ODHGJEK         NaN         NaN         NaN         NaN         NaN   \n",
       "A105TOJ6LTVMBG         NaN         NaN         NaN         NaN         NaN   \n",
       "A10AFVU66A79Y1         NaN         NaN         NaN         NaN         NaN   \n",
       "\n",
       "ProductID       1400501520  1400501776  1400532620  1400532655  140053271X  \\\n",
       "UserID                                                                       \n",
       "A100UD67AHFODS         NaN         NaN         NaN         NaN         NaN   \n",
       "A100WO06OQR8BQ         NaN         NaN         NaN         NaN         NaN   \n",
       "A105S56ODHGJEK         NaN         NaN         NaN         NaN         NaN   \n",
       "A105TOJ6LTVMBG         NaN         NaN         NaN         NaN         NaN   \n",
       "A10AFVU66A79Y1         NaN         NaN         NaN         NaN         NaN   \n",
       "\n",
       "ProductID       ...  B00L5YZCCG  B00L8I6SFY  B00L8QCVL6  B00LA6T0LS  \\\n",
       "UserID          ...                                                   \n",
       "A100UD67AHFODS  ...         NaN         NaN         NaN         NaN   \n",
       "A100WO06OQR8BQ  ...         NaN         NaN         NaN         NaN   \n",
       "A105S56ODHGJEK  ...         NaN         NaN         NaN         NaN   \n",
       "A105TOJ6LTVMBG  ...         NaN         NaN         NaN         NaN   \n",
       "A10AFVU66A79Y1  ...         NaN         NaN         NaN         NaN   \n",
       "\n",
       "ProductID       B00LBZ1Z7K  B00LED02VY  B00LGN7Y3G  B00LGQ6HL8  B00LI4ZZO8  \\\n",
       "UserID                                                                       \n",
       "A100UD67AHFODS         NaN         NaN         NaN         NaN         NaN   \n",
       "A100WO06OQR8BQ         NaN         NaN         NaN         NaN         NaN   \n",
       "A105S56ODHGJEK         NaN         NaN         NaN         NaN         NaN   \n",
       "A105TOJ6LTVMBG         NaN         NaN         NaN         NaN         NaN   \n",
       "A10AFVU66A79Y1         NaN         NaN         NaN         NaN         NaN   \n",
       "\n",
       "ProductID       B00LKG1MC8  \n",
       "UserID                      \n",
       "A100UD67AHFODS         NaN  \n",
       "A100WO06OQR8BQ         NaN  \n",
       "A105S56ODHGJEK         NaN  \n",
       "A105TOJ6LTVMBG         NaN  \n",
       "A10AFVU66A79Y1         NaN  \n",
       "\n",
       "[5 rows x 48190 columns]"
      ]
     },
     "execution_count": 19,
     "metadata": {},
     "output_type": "execute_result"
    }
   ],
   "source": [
    "# make a pivot table to reorganize the data\n",
    "df_pivot = data_final.pivot(index = 'UserID', columns = 'ProductID', values = 'Rating')\n",
    "df_pivot.head()"
   ]
  },
  {
   "cell_type": "code",
   "execution_count": 20,
   "metadata": {
    "colab": {
     "base_uri": "https://localhost:8080/"
    },
    "executionInfo": {
     "elapsed": 237,
     "status": "ok",
     "timestamp": 1683316096697,
     "user": {
      "displayName": "Sofiane Ikkour",
      "userId": "12163968403439377340"
     },
     "user_tz": -120
    },
    "id": "oP6QFGrF7EYW",
    "outputId": "fe6a7a1f-ea5c-442a-cebc-7f75a026d50b"
   },
   "outputs": [
    {
     "data": {
      "text/plain": [
       "74086729"
      ]
     },
     "execution_count": 20,
     "metadata": {},
     "output_type": "execute_result"
    }
   ],
   "source": [
    "# the first thing that can be noticed is the null values contained in the pivot table\n",
    "df_pivot.isnull().sum().sum()"
   ]
  },
  {
   "cell_type": "code",
   "execution_count": 21,
   "metadata": {
    "colab": {
     "base_uri": "https://localhost:8080/",
     "height": 266
    },
    "executionInfo": {
     "elapsed": 395,
     "status": "ok",
     "timestamp": 1683316098979,
     "user": {
      "displayName": "Sofiane Ikkour",
      "userId": "12163968403439377340"
     },
     "user_tz": -120
    },
    "id": "pwOSPOZD7fv3",
    "outputId": "a27e2fa9-bb76-48f4-ff26-8636f367069f"
   },
   "outputs": [
    {
     "data": {
      "text/html": [
       "<div>\n",
       "<style scoped>\n",
       "    .dataframe tbody tr th:only-of-type {\n",
       "        vertical-align: middle;\n",
       "    }\n",
       "\n",
       "    .dataframe tbody tr th {\n",
       "        vertical-align: top;\n",
       "    }\n",
       "\n",
       "    .dataframe thead th {\n",
       "        text-align: right;\n",
       "    }\n",
       "</style>\n",
       "<table border=\"1\" class=\"dataframe\">\n",
       "  <thead>\n",
       "    <tr style=\"text-align: right;\">\n",
       "      <th>ProductID</th>\n",
       "      <th>0594451647</th>\n",
       "      <th>0594481813</th>\n",
       "      <th>0970407998</th>\n",
       "      <th>0972683275</th>\n",
       "      <th>1400501466</th>\n",
       "      <th>1400501520</th>\n",
       "      <th>1400501776</th>\n",
       "      <th>1400532620</th>\n",
       "      <th>1400532655</th>\n",
       "      <th>140053271X</th>\n",
       "      <th>...</th>\n",
       "      <th>B00L5YZCCG</th>\n",
       "      <th>B00L8I6SFY</th>\n",
       "      <th>B00L8QCVL6</th>\n",
       "      <th>B00LA6T0LS</th>\n",
       "      <th>B00LBZ1Z7K</th>\n",
       "      <th>B00LED02VY</th>\n",
       "      <th>B00LGN7Y3G</th>\n",
       "      <th>B00LGQ6HL8</th>\n",
       "      <th>B00LI4ZZO8</th>\n",
       "      <th>B00LKG1MC8</th>\n",
       "    </tr>\n",
       "    <tr>\n",
       "      <th>UserID</th>\n",
       "      <th></th>\n",
       "      <th></th>\n",
       "      <th></th>\n",
       "      <th></th>\n",
       "      <th></th>\n",
       "      <th></th>\n",
       "      <th></th>\n",
       "      <th></th>\n",
       "      <th></th>\n",
       "      <th></th>\n",
       "      <th></th>\n",
       "      <th></th>\n",
       "      <th></th>\n",
       "      <th></th>\n",
       "      <th></th>\n",
       "      <th></th>\n",
       "      <th></th>\n",
       "      <th></th>\n",
       "      <th></th>\n",
       "      <th></th>\n",
       "      <th></th>\n",
       "    </tr>\n",
       "  </thead>\n",
       "  <tbody>\n",
       "    <tr>\n",
       "      <th>A100UD67AHFODS</th>\n",
       "      <td>0.0</td>\n",
       "      <td>0.0</td>\n",
       "      <td>0.0</td>\n",
       "      <td>0.0</td>\n",
       "      <td>0.0</td>\n",
       "      <td>0.0</td>\n",
       "      <td>0.0</td>\n",
       "      <td>0.0</td>\n",
       "      <td>0.0</td>\n",
       "      <td>0.0</td>\n",
       "      <td>...</td>\n",
       "      <td>0.0</td>\n",
       "      <td>0.0</td>\n",
       "      <td>0.0</td>\n",
       "      <td>0.0</td>\n",
       "      <td>0.0</td>\n",
       "      <td>0.0</td>\n",
       "      <td>0.0</td>\n",
       "      <td>0.0</td>\n",
       "      <td>0.0</td>\n",
       "      <td>0.0</td>\n",
       "    </tr>\n",
       "    <tr>\n",
       "      <th>A100WO06OQR8BQ</th>\n",
       "      <td>0.0</td>\n",
       "      <td>0.0</td>\n",
       "      <td>0.0</td>\n",
       "      <td>0.0</td>\n",
       "      <td>0.0</td>\n",
       "      <td>0.0</td>\n",
       "      <td>0.0</td>\n",
       "      <td>0.0</td>\n",
       "      <td>0.0</td>\n",
       "      <td>0.0</td>\n",
       "      <td>...</td>\n",
       "      <td>0.0</td>\n",
       "      <td>0.0</td>\n",
       "      <td>0.0</td>\n",
       "      <td>0.0</td>\n",
       "      <td>0.0</td>\n",
       "      <td>0.0</td>\n",
       "      <td>0.0</td>\n",
       "      <td>0.0</td>\n",
       "      <td>0.0</td>\n",
       "      <td>0.0</td>\n",
       "    </tr>\n",
       "    <tr>\n",
       "      <th>A105S56ODHGJEK</th>\n",
       "      <td>0.0</td>\n",
       "      <td>0.0</td>\n",
       "      <td>0.0</td>\n",
       "      <td>0.0</td>\n",
       "      <td>0.0</td>\n",
       "      <td>0.0</td>\n",
       "      <td>0.0</td>\n",
       "      <td>0.0</td>\n",
       "      <td>0.0</td>\n",
       "      <td>0.0</td>\n",
       "      <td>...</td>\n",
       "      <td>0.0</td>\n",
       "      <td>0.0</td>\n",
       "      <td>0.0</td>\n",
       "      <td>0.0</td>\n",
       "      <td>0.0</td>\n",
       "      <td>0.0</td>\n",
       "      <td>0.0</td>\n",
       "      <td>0.0</td>\n",
       "      <td>0.0</td>\n",
       "      <td>0.0</td>\n",
       "    </tr>\n",
       "    <tr>\n",
       "      <th>A105TOJ6LTVMBG</th>\n",
       "      <td>0.0</td>\n",
       "      <td>0.0</td>\n",
       "      <td>0.0</td>\n",
       "      <td>0.0</td>\n",
       "      <td>0.0</td>\n",
       "      <td>0.0</td>\n",
       "      <td>0.0</td>\n",
       "      <td>0.0</td>\n",
       "      <td>0.0</td>\n",
       "      <td>0.0</td>\n",
       "      <td>...</td>\n",
       "      <td>0.0</td>\n",
       "      <td>0.0</td>\n",
       "      <td>0.0</td>\n",
       "      <td>0.0</td>\n",
       "      <td>0.0</td>\n",
       "      <td>0.0</td>\n",
       "      <td>0.0</td>\n",
       "      <td>0.0</td>\n",
       "      <td>0.0</td>\n",
       "      <td>0.0</td>\n",
       "    </tr>\n",
       "    <tr>\n",
       "      <th>A10AFVU66A79Y1</th>\n",
       "      <td>0.0</td>\n",
       "      <td>0.0</td>\n",
       "      <td>0.0</td>\n",
       "      <td>0.0</td>\n",
       "      <td>0.0</td>\n",
       "      <td>0.0</td>\n",
       "      <td>0.0</td>\n",
       "      <td>0.0</td>\n",
       "      <td>0.0</td>\n",
       "      <td>0.0</td>\n",
       "      <td>...</td>\n",
       "      <td>0.0</td>\n",
       "      <td>0.0</td>\n",
       "      <td>0.0</td>\n",
       "      <td>0.0</td>\n",
       "      <td>0.0</td>\n",
       "      <td>0.0</td>\n",
       "      <td>0.0</td>\n",
       "      <td>0.0</td>\n",
       "      <td>0.0</td>\n",
       "      <td>0.0</td>\n",
       "    </tr>\n",
       "  </tbody>\n",
       "</table>\n",
       "<p>5 rows × 48190 columns</p>\n",
       "</div>"
      ],
      "text/plain": [
       "ProductID       0594451647  0594481813  0970407998  0972683275  1400501466  \\\n",
       "UserID                                                                       \n",
       "A100UD67AHFODS         0.0         0.0         0.0         0.0         0.0   \n",
       "A100WO06OQR8BQ         0.0         0.0         0.0         0.0         0.0   \n",
       "A105S56ODHGJEK         0.0         0.0         0.0         0.0         0.0   \n",
       "A105TOJ6LTVMBG         0.0         0.0         0.0         0.0         0.0   \n",
       "A10AFVU66A79Y1         0.0         0.0         0.0         0.0         0.0   \n",
       "\n",
       "ProductID       1400501520  1400501776  1400532620  1400532655  140053271X  \\\n",
       "UserID                                                                       \n",
       "A100UD67AHFODS         0.0         0.0         0.0         0.0         0.0   \n",
       "A100WO06OQR8BQ         0.0         0.0         0.0         0.0         0.0   \n",
       "A105S56ODHGJEK         0.0         0.0         0.0         0.0         0.0   \n",
       "A105TOJ6LTVMBG         0.0         0.0         0.0         0.0         0.0   \n",
       "A10AFVU66A79Y1         0.0         0.0         0.0         0.0         0.0   \n",
       "\n",
       "ProductID       ...  B00L5YZCCG  B00L8I6SFY  B00L8QCVL6  B00LA6T0LS  \\\n",
       "UserID          ...                                                   \n",
       "A100UD67AHFODS  ...         0.0         0.0         0.0         0.0   \n",
       "A100WO06OQR8BQ  ...         0.0         0.0         0.0         0.0   \n",
       "A105S56ODHGJEK  ...         0.0         0.0         0.0         0.0   \n",
       "A105TOJ6LTVMBG  ...         0.0         0.0         0.0         0.0   \n",
       "A10AFVU66A79Y1  ...         0.0         0.0         0.0         0.0   \n",
       "\n",
       "ProductID       B00LBZ1Z7K  B00LED02VY  B00LGN7Y3G  B00LGQ6HL8  B00LI4ZZO8  \\\n",
       "UserID                                                                       \n",
       "A100UD67AHFODS         0.0         0.0         0.0         0.0         0.0   \n",
       "A100WO06OQR8BQ         0.0         0.0         0.0         0.0         0.0   \n",
       "A105S56ODHGJEK         0.0         0.0         0.0         0.0         0.0   \n",
       "A105TOJ6LTVMBG         0.0         0.0         0.0         0.0         0.0   \n",
       "A10AFVU66A79Y1         0.0         0.0         0.0         0.0         0.0   \n",
       "\n",
       "ProductID       B00LKG1MC8  \n",
       "UserID                      \n",
       "A100UD67AHFODS         0.0  \n",
       "A100WO06OQR8BQ         0.0  \n",
       "A105S56ODHGJEK         0.0  \n",
       "A105TOJ6LTVMBG         0.0  \n",
       "A10AFVU66A79Y1         0.0  \n",
       "\n",
       "[5 rows x 48190 columns]"
      ]
     },
     "execution_count": 21,
     "metadata": {},
     "output_type": "execute_result"
    }
   ],
   "source": [
    "# as we can see the dataframe contains so many null values\n",
    "# let's fill these null values with 0s\n",
    "df_pivot = df_pivot.fillna(0)\n",
    "df_pivot.head() "
   ]
  },
  {
   "cell_type": "code",
   "execution_count": 22,
   "metadata": {
    "colab": {
     "base_uri": "https://localhost:8080/"
    },
    "executionInfo": {
     "elapsed": 514,
     "status": "ok",
     "timestamp": 1683316102701,
     "user": {
      "displayName": "Sofiane Ikkour",
      "userId": "12163968403439377340"
     },
     "user_tz": -120
    },
    "id": "SVHEGX5v8q-L",
    "outputId": "4dcff381-2287-4117-a21b-1cfdc2f96524"
   },
   "outputs": [
    {
     "name": "stdout",
     "output_type": "stream",
     "text": [
      "Shape of the pivot table: (1540, 48190)\n",
      "The number of non zero ratings is: 125871\n",
      "The number of all possible ratings is: 74212600\n",
      "The density of the matrix (pivot table) is: 0.17%\n"
     ]
    }
   ],
   "source": [
    "# now we can calculate the density of the matrix (pivot table)\n",
    "# print the shape of the dataframe\n",
    "print('Shape of the pivot table:', df_pivot.shape)\n",
    "\n",
    "# first we calculate the number of given ratings\n",
    "number_ratings = np.count_nonzero(df_pivot)\n",
    "print('The number of non zero ratings is: {}'.format(number_ratings))\n",
    "\n",
    "# then we calculate the number of all possible ratings\n",
    "number_all_ratings = df_pivot.shape[0] * df_pivot.shape[1]\n",
    "print('The number of all possible ratings is: {}'.format(number_all_ratings))\n",
    "\n",
    "# calculate density\n",
    "density = (number_ratings / number_all_ratings) * 100\n",
    "print('The density of the matrix (pivot table) is: {}%'.format(round(density, 2)))"
   ]
  },
  {
   "cell_type": "code",
   "execution_count": 23,
   "metadata": {
    "colab": {
     "base_uri": "https://localhost:8080/",
     "height": 266
    },
    "executionInfo": {
     "elapsed": 9,
     "status": "ok",
     "timestamp": 1683317072142,
     "user": {
      "displayName": "Sofiane Ikkour",
      "userId": "12163968403439377340"
     },
     "user_tz": -120
    },
    "id": "qjonQqDy9Tfm",
    "outputId": "2fb4d760-55a0-4c09-eb7c-a09ac89e7dd1"
   },
   "outputs": [
    {
     "data": {
      "text/html": [
       "<div>\n",
       "<style scoped>\n",
       "    .dataframe tbody tr th:only-of-type {\n",
       "        vertical-align: middle;\n",
       "    }\n",
       "\n",
       "    .dataframe tbody tr th {\n",
       "        vertical-align: top;\n",
       "    }\n",
       "\n",
       "    .dataframe thead th {\n",
       "        text-align: right;\n",
       "    }\n",
       "</style>\n",
       "<table border=\"1\" class=\"dataframe\">\n",
       "  <thead>\n",
       "    <tr style=\"text-align: right;\">\n",
       "      <th>ProductID</th>\n",
       "      <th>0594451647</th>\n",
       "      <th>0594481813</th>\n",
       "      <th>0970407998</th>\n",
       "      <th>0972683275</th>\n",
       "      <th>1400501466</th>\n",
       "      <th>1400501520</th>\n",
       "      <th>1400501776</th>\n",
       "      <th>1400532620</th>\n",
       "      <th>1400532655</th>\n",
       "      <th>140053271X</th>\n",
       "      <th>...</th>\n",
       "      <th>B00L5YZCCG</th>\n",
       "      <th>B00L8I6SFY</th>\n",
       "      <th>B00L8QCVL6</th>\n",
       "      <th>B00LA6T0LS</th>\n",
       "      <th>B00LBZ1Z7K</th>\n",
       "      <th>B00LED02VY</th>\n",
       "      <th>B00LGN7Y3G</th>\n",
       "      <th>B00LGQ6HL8</th>\n",
       "      <th>B00LI4ZZO8</th>\n",
       "      <th>B00LKG1MC8</th>\n",
       "    </tr>\n",
       "    <tr>\n",
       "      <th>user_index</th>\n",
       "      <th></th>\n",
       "      <th></th>\n",
       "      <th></th>\n",
       "      <th></th>\n",
       "      <th></th>\n",
       "      <th></th>\n",
       "      <th></th>\n",
       "      <th></th>\n",
       "      <th></th>\n",
       "      <th></th>\n",
       "      <th></th>\n",
       "      <th></th>\n",
       "      <th></th>\n",
       "      <th></th>\n",
       "      <th></th>\n",
       "      <th></th>\n",
       "      <th></th>\n",
       "      <th></th>\n",
       "      <th></th>\n",
       "      <th></th>\n",
       "      <th></th>\n",
       "    </tr>\n",
       "  </thead>\n",
       "  <tbody>\n",
       "    <tr>\n",
       "      <th>0</th>\n",
       "      <td>0.0</td>\n",
       "      <td>0.0</td>\n",
       "      <td>0.0</td>\n",
       "      <td>0.0</td>\n",
       "      <td>0.0</td>\n",
       "      <td>0.0</td>\n",
       "      <td>0.0</td>\n",
       "      <td>0.0</td>\n",
       "      <td>0.0</td>\n",
       "      <td>0.0</td>\n",
       "      <td>...</td>\n",
       "      <td>0.0</td>\n",
       "      <td>0.0</td>\n",
       "      <td>0.0</td>\n",
       "      <td>0.0</td>\n",
       "      <td>0.0</td>\n",
       "      <td>0.0</td>\n",
       "      <td>0.0</td>\n",
       "      <td>0.0</td>\n",
       "      <td>0.0</td>\n",
       "      <td>0.0</td>\n",
       "    </tr>\n",
       "    <tr>\n",
       "      <th>1</th>\n",
       "      <td>0.0</td>\n",
       "      <td>0.0</td>\n",
       "      <td>0.0</td>\n",
       "      <td>0.0</td>\n",
       "      <td>0.0</td>\n",
       "      <td>0.0</td>\n",
       "      <td>0.0</td>\n",
       "      <td>0.0</td>\n",
       "      <td>0.0</td>\n",
       "      <td>0.0</td>\n",
       "      <td>...</td>\n",
       "      <td>0.0</td>\n",
       "      <td>0.0</td>\n",
       "      <td>0.0</td>\n",
       "      <td>0.0</td>\n",
       "      <td>0.0</td>\n",
       "      <td>0.0</td>\n",
       "      <td>0.0</td>\n",
       "      <td>0.0</td>\n",
       "      <td>0.0</td>\n",
       "      <td>0.0</td>\n",
       "    </tr>\n",
       "    <tr>\n",
       "      <th>2</th>\n",
       "      <td>0.0</td>\n",
       "      <td>0.0</td>\n",
       "      <td>0.0</td>\n",
       "      <td>0.0</td>\n",
       "      <td>0.0</td>\n",
       "      <td>0.0</td>\n",
       "      <td>0.0</td>\n",
       "      <td>0.0</td>\n",
       "      <td>0.0</td>\n",
       "      <td>0.0</td>\n",
       "      <td>...</td>\n",
       "      <td>0.0</td>\n",
       "      <td>0.0</td>\n",
       "      <td>0.0</td>\n",
       "      <td>0.0</td>\n",
       "      <td>0.0</td>\n",
       "      <td>0.0</td>\n",
       "      <td>0.0</td>\n",
       "      <td>0.0</td>\n",
       "      <td>0.0</td>\n",
       "      <td>0.0</td>\n",
       "    </tr>\n",
       "    <tr>\n",
       "      <th>3</th>\n",
       "      <td>0.0</td>\n",
       "      <td>0.0</td>\n",
       "      <td>0.0</td>\n",
       "      <td>0.0</td>\n",
       "      <td>0.0</td>\n",
       "      <td>0.0</td>\n",
       "      <td>0.0</td>\n",
       "      <td>0.0</td>\n",
       "      <td>0.0</td>\n",
       "      <td>0.0</td>\n",
       "      <td>...</td>\n",
       "      <td>0.0</td>\n",
       "      <td>0.0</td>\n",
       "      <td>0.0</td>\n",
       "      <td>0.0</td>\n",
       "      <td>0.0</td>\n",
       "      <td>0.0</td>\n",
       "      <td>0.0</td>\n",
       "      <td>0.0</td>\n",
       "      <td>0.0</td>\n",
       "      <td>0.0</td>\n",
       "    </tr>\n",
       "    <tr>\n",
       "      <th>4</th>\n",
       "      <td>0.0</td>\n",
       "      <td>0.0</td>\n",
       "      <td>0.0</td>\n",
       "      <td>0.0</td>\n",
       "      <td>0.0</td>\n",
       "      <td>0.0</td>\n",
       "      <td>0.0</td>\n",
       "      <td>0.0</td>\n",
       "      <td>0.0</td>\n",
       "      <td>0.0</td>\n",
       "      <td>...</td>\n",
       "      <td>0.0</td>\n",
       "      <td>0.0</td>\n",
       "      <td>0.0</td>\n",
       "      <td>0.0</td>\n",
       "      <td>0.0</td>\n",
       "      <td>0.0</td>\n",
       "      <td>0.0</td>\n",
       "      <td>0.0</td>\n",
       "      <td>0.0</td>\n",
       "      <td>0.0</td>\n",
       "    </tr>\n",
       "  </tbody>\n",
       "</table>\n",
       "<p>5 rows × 48190 columns</p>\n",
       "</div>"
      ],
      "text/plain": [
       "ProductID   0594451647  0594481813  0970407998  0972683275  1400501466  \\\n",
       "user_index                                                               \n",
       "0                  0.0         0.0         0.0         0.0         0.0   \n",
       "1                  0.0         0.0         0.0         0.0         0.0   \n",
       "2                  0.0         0.0         0.0         0.0         0.0   \n",
       "3                  0.0         0.0         0.0         0.0         0.0   \n",
       "4                  0.0         0.0         0.0         0.0         0.0   \n",
       "\n",
       "ProductID   1400501520  1400501776  1400532620  1400532655  140053271X  ...  \\\n",
       "user_index                                                              ...   \n",
       "0                  0.0         0.0         0.0         0.0         0.0  ...   \n",
       "1                  0.0         0.0         0.0         0.0         0.0  ...   \n",
       "2                  0.0         0.0         0.0         0.0         0.0  ...   \n",
       "3                  0.0         0.0         0.0         0.0         0.0  ...   \n",
       "4                  0.0         0.0         0.0         0.0         0.0  ...   \n",
       "\n",
       "ProductID   B00L5YZCCG  B00L8I6SFY  B00L8QCVL6  B00LA6T0LS  B00LBZ1Z7K  \\\n",
       "user_index                                                               \n",
       "0                  0.0         0.0         0.0         0.0         0.0   \n",
       "1                  0.0         0.0         0.0         0.0         0.0   \n",
       "2                  0.0         0.0         0.0         0.0         0.0   \n",
       "3                  0.0         0.0         0.0         0.0         0.0   \n",
       "4                  0.0         0.0         0.0         0.0         0.0   \n",
       "\n",
       "ProductID   B00LED02VY  B00LGN7Y3G  B00LGQ6HL8  B00LI4ZZO8  B00LKG1MC8  \n",
       "user_index                                                              \n",
       "0                  0.0         0.0         0.0         0.0         0.0  \n",
       "1                  0.0         0.0         0.0         0.0         0.0  \n",
       "2                  0.0         0.0         0.0         0.0         0.0  \n",
       "3                  0.0         0.0         0.0         0.0         0.0  \n",
       "4                  0.0         0.0         0.0         0.0         0.0  \n",
       "\n",
       "[5 rows x 48190 columns]"
      ]
     },
     "execution_count": 23,
     "metadata": {},
     "output_type": "execute_result"
    }
   ],
   "source": [
    "# add an index column named \"user_index\"\n",
    "df_pivot['user_index'] = np.arange(0, df_pivot.shape[0], 1)\n",
    "\n",
    "# set the index using the new column \n",
    "df_pivot.set_index(['user_index'], inplace = True)\n",
    "df_pivot.head()"
   ]
  },
  {
   "cell_type": "code",
   "execution_count": 24,
   "metadata": {
    "colab": {
     "base_uri": "https://localhost:8080/",
     "height": 235
    },
    "executionInfo": {
     "elapsed": 10859,
     "status": "ok",
     "timestamp": 1683318603267,
     "user": {
      "displayName": "Sofiane Ikkour",
      "userId": "12163968403439377340"
     },
     "user_tz": -120
    },
    "id": "C68zT4mS4MaE",
    "outputId": "58c8b688-b3b8-4dc7-8379-eee3db695bed"
   },
   "outputs": [
    {
     "data": {
      "text/html": [
       "<div>\n",
       "<style scoped>\n",
       "    .dataframe tbody tr th:only-of-type {\n",
       "        vertical-align: middle;\n",
       "    }\n",
       "\n",
       "    .dataframe tbody tr th {\n",
       "        vertical-align: top;\n",
       "    }\n",
       "\n",
       "    .dataframe thead th {\n",
       "        text-align: right;\n",
       "    }\n",
       "</style>\n",
       "<table border=\"1\" class=\"dataframe\">\n",
       "  <thead>\n",
       "    <tr style=\"text-align: right;\">\n",
       "      <th>ProductID</th>\n",
       "      <th>0594451647</th>\n",
       "      <th>0594481813</th>\n",
       "      <th>0970407998</th>\n",
       "      <th>0972683275</th>\n",
       "      <th>1400501466</th>\n",
       "      <th>1400501520</th>\n",
       "      <th>1400501776</th>\n",
       "      <th>1400532620</th>\n",
       "      <th>1400532655</th>\n",
       "      <th>140053271X</th>\n",
       "      <th>...</th>\n",
       "      <th>B00L5YZCCG</th>\n",
       "      <th>B00L8I6SFY</th>\n",
       "      <th>B00L8QCVL6</th>\n",
       "      <th>B00LA6T0LS</th>\n",
       "      <th>B00LBZ1Z7K</th>\n",
       "      <th>B00LED02VY</th>\n",
       "      <th>B00LGN7Y3G</th>\n",
       "      <th>B00LGQ6HL8</th>\n",
       "      <th>B00LI4ZZO8</th>\n",
       "      <th>B00LKG1MC8</th>\n",
       "    </tr>\n",
       "  </thead>\n",
       "  <tbody>\n",
       "    <tr>\n",
       "      <th>0</th>\n",
       "      <td>0.002661</td>\n",
       "      <td>0.003576</td>\n",
       "      <td>0.004050</td>\n",
       "      <td>0.006906</td>\n",
       "      <td>0.003967</td>\n",
       "      <td>0.003073</td>\n",
       "      <td>0.005782</td>\n",
       "      <td>0.000568</td>\n",
       "      <td>0.014386</td>\n",
       "      <td>0.002708</td>\n",
       "      <td>...</td>\n",
       "      <td>6.108890e-04</td>\n",
       "      <td>0.044224</td>\n",
       "      <td>0.002919</td>\n",
       "      <td>0.060347</td>\n",
       "      <td>-0.002137</td>\n",
       "      <td>0.006751</td>\n",
       "      <td>0.001525</td>\n",
       "      <td>0.130951</td>\n",
       "      <td>0.059243</td>\n",
       "      <td>0.015014</td>\n",
       "    </tr>\n",
       "    <tr>\n",
       "      <th>1</th>\n",
       "      <td>0.002262</td>\n",
       "      <td>0.002505</td>\n",
       "      <td>0.005136</td>\n",
       "      <td>0.016517</td>\n",
       "      <td>0.007120</td>\n",
       "      <td>0.001438</td>\n",
       "      <td>0.013258</td>\n",
       "      <td>0.000335</td>\n",
       "      <td>-0.003781</td>\n",
       "      <td>0.001190</td>\n",
       "      <td>...</td>\n",
       "      <td>2.024793e-04</td>\n",
       "      <td>0.029213</td>\n",
       "      <td>0.000010</td>\n",
       "      <td>0.000244</td>\n",
       "      <td>-0.003111</td>\n",
       "      <td>-0.000621</td>\n",
       "      <td>0.004409</td>\n",
       "      <td>-0.039241</td>\n",
       "      <td>-0.006889</td>\n",
       "      <td>0.003696</td>\n",
       "    </tr>\n",
       "    <tr>\n",
       "      <th>2</th>\n",
       "      <td>-0.001600</td>\n",
       "      <td>-0.002502</td>\n",
       "      <td>0.002186</td>\n",
       "      <td>0.016742</td>\n",
       "      <td>0.006716</td>\n",
       "      <td>-0.002113</td>\n",
       "      <td>0.005805</td>\n",
       "      <td>0.003497</td>\n",
       "      <td>-0.005009</td>\n",
       "      <td>-0.001588</td>\n",
       "      <td>...</td>\n",
       "      <td>-3.240446e-04</td>\n",
       "      <td>0.009180</td>\n",
       "      <td>-0.002459</td>\n",
       "      <td>-0.016922</td>\n",
       "      <td>0.019936</td>\n",
       "      <td>-0.002483</td>\n",
       "      <td>-0.000155</td>\n",
       "      <td>-0.002889</td>\n",
       "      <td>-0.011522</td>\n",
       "      <td>-0.004525</td>\n",
       "    </tr>\n",
       "    <tr>\n",
       "      <th>3</th>\n",
       "      <td>0.002732</td>\n",
       "      <td>0.003867</td>\n",
       "      <td>0.001799</td>\n",
       "      <td>0.009395</td>\n",
       "      <td>0.004075</td>\n",
       "      <td>0.002778</td>\n",
       "      <td>0.003507</td>\n",
       "      <td>0.000095</td>\n",
       "      <td>0.007983</td>\n",
       "      <td>0.002381</td>\n",
       "      <td>...</td>\n",
       "      <td>6.031462e-04</td>\n",
       "      <td>-0.003369</td>\n",
       "      <td>0.003433</td>\n",
       "      <td>-0.003428</td>\n",
       "      <td>-0.000750</td>\n",
       "      <td>0.000119</td>\n",
       "      <td>0.002612</td>\n",
       "      <td>-0.015107</td>\n",
       "      <td>-0.006740</td>\n",
       "      <td>0.003276</td>\n",
       "    </tr>\n",
       "    <tr>\n",
       "      <th>4</th>\n",
       "      <td>0.000704</td>\n",
       "      <td>0.000085</td>\n",
       "      <td>0.002051</td>\n",
       "      <td>0.009664</td>\n",
       "      <td>0.004438</td>\n",
       "      <td>0.000335</td>\n",
       "      <td>0.005992</td>\n",
       "      <td>0.001056</td>\n",
       "      <td>-0.000369</td>\n",
       "      <td>0.000373</td>\n",
       "      <td>...</td>\n",
       "      <td>3.745108e-08</td>\n",
       "      <td>-0.001140</td>\n",
       "      <td>-0.000323</td>\n",
       "      <td>-0.025215</td>\n",
       "      <td>0.004700</td>\n",
       "      <td>-0.002170</td>\n",
       "      <td>0.001263</td>\n",
       "      <td>-0.048555</td>\n",
       "      <td>-0.016301</td>\n",
       "      <td>-0.003377</td>\n",
       "    </tr>\n",
       "  </tbody>\n",
       "</table>\n",
       "<p>5 rows × 48190 columns</p>\n",
       "</div>"
      ],
      "text/plain": [
       "ProductID  0594451647  0594481813  0970407998  0972683275  1400501466  \\\n",
       "0            0.002661    0.003576    0.004050    0.006906    0.003967   \n",
       "1            0.002262    0.002505    0.005136    0.016517    0.007120   \n",
       "2           -0.001600   -0.002502    0.002186    0.016742    0.006716   \n",
       "3            0.002732    0.003867    0.001799    0.009395    0.004075   \n",
       "4            0.000704    0.000085    0.002051    0.009664    0.004438   \n",
       "\n",
       "ProductID  1400501520  1400501776  1400532620  1400532655  140053271X  ...  \\\n",
       "0            0.003073    0.005782    0.000568    0.014386    0.002708  ...   \n",
       "1            0.001438    0.013258    0.000335   -0.003781    0.001190  ...   \n",
       "2           -0.002113    0.005805    0.003497   -0.005009   -0.001588  ...   \n",
       "3            0.002778    0.003507    0.000095    0.007983    0.002381  ...   \n",
       "4            0.000335    0.005992    0.001056   -0.000369    0.000373  ...   \n",
       "\n",
       "ProductID    B00L5YZCCG  B00L8I6SFY  B00L8QCVL6  B00LA6T0LS  B00LBZ1Z7K  \\\n",
       "0          6.108890e-04    0.044224    0.002919    0.060347   -0.002137   \n",
       "1          2.024793e-04    0.029213    0.000010    0.000244   -0.003111   \n",
       "2         -3.240446e-04    0.009180   -0.002459   -0.016922    0.019936   \n",
       "3          6.031462e-04   -0.003369    0.003433   -0.003428   -0.000750   \n",
       "4          3.745108e-08   -0.001140   -0.000323   -0.025215    0.004700   \n",
       "\n",
       "ProductID  B00LED02VY  B00LGN7Y3G  B00LGQ6HL8  B00LI4ZZO8  B00LKG1MC8  \n",
       "0            0.006751    0.001525    0.130951    0.059243    0.015014  \n",
       "1           -0.000621    0.004409   -0.039241   -0.006889    0.003696  \n",
       "2           -0.002483   -0.000155   -0.002889   -0.011522   -0.004525  \n",
       "3            0.000119    0.002612   -0.015107   -0.006740    0.003276  \n",
       "4           -0.002170    0.001263   -0.048555   -0.016301   -0.003377  \n",
       "\n",
       "[5 rows x 48190 columns]"
      ]
     },
     "execution_count": 24,
     "metadata": {},
     "output_type": "execute_result"
    }
   ],
   "source": [
    "# Note that for sparse matrices, we can use the sparse.linalg.svds() function to perform the decomposition\n",
    "# SVD is useful in many tasks, such as data compression, noise reduction similar to Principal Component Analysis and Latent Semantic Indexing (LSI), \n",
    "# used in document retrieval and word similarity in Text mining\n",
    "u, s, vT = svds(df_pivot.to_numpy(), k = 10)\n",
    "\n",
    "# set the diagonal matrix s containing the square roots of eigenvalues from u or v\n",
    "s = np.diag(s)\n",
    "\n",
    "# the predictions are the product of the 3 matrices u, s and vT\n",
    "preds = np.dot(u, np.dot(s,vT))\n",
    "\n",
    "# convert the matrix \"preds\" into a dataframe\n",
    "df_preds = pd.DataFrame(data = preds, columns = df_pivot.columns)\n",
    "\n",
    "# display the first few rows of the dataframe containing the predictions\n",
    "df_preds.head() "
   ]
  },
  {
   "cell_type": "code",
   "execution_count": 25,
   "metadata": {
    "executionInfo": {
     "elapsed": 305,
     "status": "ok",
     "timestamp": 1683330144655,
     "user": {
      "displayName": "Sofiane Ikkour",
      "userId": "12163968403439377340"
     },
     "user_tz": -120
    },
    "id": "Bdy59J5N-xKF"
   },
   "outputs": [],
   "source": [
    "# create a function that recommends the top n products for a given user\n",
    "def cf_reco_sys(userid, df_pivot, df_preds, num_recommendations):\n",
    "  user_index = userid - 1 # the index starts at 0\n",
    "  # sort original ratings in descending order\n",
    "  original_user_ratings = df_pivot.iloc[user_index].sort_values(ascending = False)\n",
    "  # sort predicted ratings in dscending order\n",
    "  predicted_user_ratings = df_preds.iloc[user_index].sort_values(ascending = False)\n",
    "  # concatenate the two series into a dataframe\n",
    "  df_temp = pd.concat([original_user_ratings, predicted_user_ratings], axis = 1)\n",
    "  # rename the columns\n",
    "  df_temp.columns = ['original_user_ratings', 'predicted_user_ratings']\n",
    "  # add a column that contains the product ids, set it as an index\n",
    "  df_temp['recommended_products'] = df_pivot.columns\n",
    "  df_temp.set_index(['recommended_products'], inplace = True)\n",
    "  # filter on the original user ratings that are equal to 0\n",
    "  df_temp = df_temp[df_temp.original_user_ratings == 0]\n",
    "  # sort the \"predicted_user_ratings\" column in descending order\n",
    "  df_temp.sort_values(by = ['predicted_user_ratings', 'original_user_ratings'], ascending = [0,1], inplace = True)\n",
    "  # get the top n recommended products\n",
    "  recommendations = df_temp.head(num_recommendations)\n",
    "  return recommendations"
   ]
  },
  {
   "cell_type": "code",
   "execution_count": 26,
   "metadata": {
    "colab": {
     "base_uri": "https://localhost:8080/"
    },
    "executionInfo": {
     "elapsed": 897,
     "status": "ok",
     "timestamp": 1683331612433,
     "user": {
      "displayName": "Sofiane Ikkour",
      "userId": "12163968403439377340"
     },
     "user_tz": -120
    },
    "id": "dQlO0qJGBA7u",
    "outputId": "1358799e-15bb-4572-e558-e1b262fd4f4a"
   },
   "outputs": [
    {
     "name": "stdout",
     "output_type": "stream",
     "text": [
      "\n",
      "The top 5 products to recommend for user (UserID:15)\n",
      "\n",
      "                      original_user_ratings  predicted_user_ratings\n",
      "recommended_products                                               \n",
      "B001Q3M4IQ                              0.0                0.247331\n",
      "B000BVNOZG                              0.0                0.196123\n",
      "B009X2OS5Y                              0.0                0.133789\n",
      "B008KRLZCW                              0.0                0.112403\n",
      "B0047FLBV6                              0.0                0.111686\n",
      "\n",
      "The top 5 products to recommend for user (UserID:25)\n",
      "\n",
      "                      original_user_ratings  predicted_user_ratings\n",
      "recommended_products                                               \n",
      "B001PPVXPK                              0.0                0.890082\n",
      "B000BV9HR0                              0.0                0.839816\n",
      "B009X1LQ78                              0.0                0.536234\n",
      "B0047E8DN6                              0.0                0.437834\n",
      "B008KR9CYK                              0.0                0.414043\n",
      "\n",
      "The top 5 products to recommend for user (UserID:30)\n",
      "\n",
      "                      original_user_ratings  predicted_user_ratings\n",
      "recommended_products                                               \n",
      "B000BVB2FK                              0.0                0.823299\n",
      "B009WIW5VS                              0.0                0.662289\n",
      "B0047H2KYG                              0.0                0.566078\n",
      "B008BERH08                              0.0                0.549164\n",
      "B0001Y6D6K                              0.0                0.532050\n"
     ]
    }
   ],
   "source": [
    "# test the function\n",
    "userid = [15, 25, 30]\n",
    "for i in userid:\n",
    "  print('\\nThe top 5 products to recommend for user (UserID:{})\\n'.format(i))\n",
    "  print(cf_reco_sys(i, df_pivot, df_preds, 5))"
   ]
  },
  {
   "cell_type": "markdown",
   "metadata": {},
   "source": [
    "**Evaluate the model**"
   ]
  },
  {
   "cell_type": "code",
   "execution_count": 29,
   "metadata": {},
   "outputs": [
    {
     "data": {
      "text/plain": [
       "0.0033"
      ]
     },
     "execution_count": 29,
     "metadata": {},
     "output_type": "execute_result"
    }
   ],
   "source": [
    "# calculate the means of \"df_pivot\" and \"df_preds\" tables\n",
    "df_pivot_means = df_pivot.mean()\n",
    "df_preds_means = df_preds.mean()\n",
    "\n",
    "# calculate rmse\n",
    "rmse = round((((df_pivot_means - df_preds_means)**2).mean())**0.5, 5)\n",
    "rmse"
   ]
  },
  {
   "cell_type": "markdown",
   "metadata": {
    "id": "da2Aj0r5G09Y"
   },
   "source": [
    "**Conclusion:**  \n",
    "Model-based Collaborative Filtering is a personalized recommender system, the recommendations are based on the past behavior of the user and it is not dependent on any additional information.\n",
    "\n",
    "The Popularity-based recommender system is non-personalized and the recommendations are based on frequecy counts, which may be not suitable to the user. We can see the difference above from the two created models: the popularity based model has recommended the same set of 5 products to all users but collaborative filtering based model has recommended an entire different list to every different user based on the user past purchase history."
   ]
  }
 ],
 "metadata": {
  "colab": {
   "authorship_tag": "ABX9TyOmUxbeBB8i01dwy26AwzPQ",
   "provenance": []
  },
  "kernelspec": {
   "display_name": "Python 3 (ipykernel)",
   "language": "python",
   "name": "python3"
  },
  "language_info": {
   "codemirror_mode": {
    "name": "ipython",
    "version": 3
   },
   "file_extension": ".py",
   "mimetype": "text/x-python",
   "name": "python",
   "nbconvert_exporter": "python",
   "pygments_lexer": "ipython3",
   "version": "3.10.9"
  }
 },
 "nbformat": 4,
 "nbformat_minor": 1
}
